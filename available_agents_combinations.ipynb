{
  "nbformat": 4,
  "nbformat_minor": 0,
  "metadata": {
    "colab": {
      "name": "Available_agents_combinations.ipynb",
      "provenance": [],
      "collapsed_sections": []
    },
    "kernelspec": {
      "name": "python3",
      "display_name": "Python 3"
    },
    "language_info": {
      "name": "python"
    }
  },
  "cells": [
    {
      "cell_type": "code",
      "metadata": {
        "id": "cHI-rsU6WpWT"
      },
      "source": [
        "import itertools"
      ],
      "execution_count": null,
      "outputs": []
    },
    {
      "cell_type": "code",
      "metadata": {
        "colab": {
          "base_uri": "https://localhost:8080/"
        },
        "id": "gZEUCfIFVrX7",
        "outputId": "f3c3bd3b-1c7a-4832-8f41-04a1c0544197"
      },
      "source": [
        "skills = [\"db_access\", \"lift\", \"move\", \"pnp\"]\n",
        "for size in range(1, len(skills)+1):\n",
        "    #v = []\n",
        "    for i in itertools.combinations(skills, size):\n",
        "    #for i in itertools.combinations_with_replacement(skills, size):\n",
        "        #v.append(i)\n",
        "        #print(v)\n",
        "        print(i)"
      ],
      "execution_count": null,
      "outputs": [
        {
          "output_type": "stream",
          "text": [
            "('db_access',)\n",
            "('lift',)\n",
            "('move',)\n",
            "('pnp',)\n",
            "('db_access', 'lift')\n",
            "('db_access', 'move')\n",
            "('db_access', 'pnp')\n",
            "('lift', 'move')\n",
            "('lift', 'pnp')\n",
            "('move', 'pnp')\n",
            "('db_access', 'lift', 'move')\n",
            "('db_access', 'lift', 'pnp')\n",
            "('db_access', 'move', 'pnp')\n",
            "('lift', 'move', 'pnp')\n",
            "('db_access', 'lift', 'move', 'pnp')\n"
          ],
          "name": "stdout"
        }
      ]
    },
    {
      "cell_type": "code",
      "metadata": {
        "id": "KMazQXlCb6aW"
      },
      "source": [
        "def powerset(iterable):\n",
        "    s = list(iterable)\n",
        "    return itertools.chain.from_iterable(itertools.combinations(s, r) for r in range(len(s)+1))"
      ],
      "execution_count": null,
      "outputs": []
    },
    {
      "cell_type": "code",
      "metadata": {
        "colab": {
          "base_uri": "https://localhost:8080/"
        },
        "id": "kW-3EA53Y62U",
        "outputId": "8e5cf7d9-c88f-42c4-eaca-2f663c4b3c58"
      },
      "source": [
        "P = powerset([\"db_access\", \"lift\", \"move\", \"pnp\"])\n",
        "print(\"\\t<available-agents>\")\n",
        "it = 0\n",
        "for e in P:\n",
        "    v = []\n",
        "    print(\"\\t\\t<agent id=\\\"a\"+str(it)+\"\\\">\")    \n",
        "    for i in range(0, len(e)):\n",
        "        print(\"\\t\\t\\t<skill id=\\\"\"+e[i]+\"\\\"/>\")    \n",
        "        #v.append(e[i])\n",
        "    #print(v)\n",
        "    it += 1\n",
        "    print(\"\\t\\t</agent>\")    \n",
        "print(\"\\t</available-agents>\")"
      ],
      "execution_count": null,
      "outputs": [
        {
          "output_type": "stream",
          "text": [
            "\t<available-agents>\n",
            "\t\t<agent id=\"a0\">\n",
            "\t\t</agent>\n",
            "\t\t<agent id=\"a1\">\n",
            "\t\t\t<skill id=\"db_access\"/>\n",
            "\t\t</agent>\n",
            "\t\t<agent id=\"a2\">\n",
            "\t\t\t<skill id=\"lift\"/>\n",
            "\t\t</agent>\n",
            "\t\t<agent id=\"a3\">\n",
            "\t\t\t<skill id=\"move\"/>\n",
            "\t\t</agent>\n",
            "\t\t<agent id=\"a4\">\n",
            "\t\t\t<skill id=\"pnp\"/>\n",
            "\t\t</agent>\n",
            "\t\t<agent id=\"a5\">\n",
            "\t\t\t<skill id=\"db_access\"/>\n",
            "\t\t\t<skill id=\"lift\"/>\n",
            "\t\t</agent>\n",
            "\t\t<agent id=\"a6\">\n",
            "\t\t\t<skill id=\"db_access\"/>\n",
            "\t\t\t<skill id=\"move\"/>\n",
            "\t\t</agent>\n",
            "\t\t<agent id=\"a7\">\n",
            "\t\t\t<skill id=\"db_access\"/>\n",
            "\t\t\t<skill id=\"pnp\"/>\n",
            "\t\t</agent>\n",
            "\t\t<agent id=\"a8\">\n",
            "\t\t\t<skill id=\"lift\"/>\n",
            "\t\t\t<skill id=\"move\"/>\n",
            "\t\t</agent>\n",
            "\t\t<agent id=\"a9\">\n",
            "\t\t\t<skill id=\"lift\"/>\n",
            "\t\t\t<skill id=\"pnp\"/>\n",
            "\t\t</agent>\n",
            "\t\t<agent id=\"a10\">\n",
            "\t\t\t<skill id=\"move\"/>\n",
            "\t\t\t<skill id=\"pnp\"/>\n",
            "\t\t</agent>\n",
            "\t\t<agent id=\"a11\">\n",
            "\t\t\t<skill id=\"db_access\"/>\n",
            "\t\t\t<skill id=\"lift\"/>\n",
            "\t\t\t<skill id=\"move\"/>\n",
            "\t\t</agent>\n",
            "\t\t<agent id=\"a12\">\n",
            "\t\t\t<skill id=\"db_access\"/>\n",
            "\t\t\t<skill id=\"lift\"/>\n",
            "\t\t\t<skill id=\"pnp\"/>\n",
            "\t\t</agent>\n",
            "\t\t<agent id=\"a13\">\n",
            "\t\t\t<skill id=\"db_access\"/>\n",
            "\t\t\t<skill id=\"move\"/>\n",
            "\t\t\t<skill id=\"pnp\"/>\n",
            "\t\t</agent>\n",
            "\t\t<agent id=\"a14\">\n",
            "\t\t\t<skill id=\"lift\"/>\n",
            "\t\t\t<skill id=\"move\"/>\n",
            "\t\t\t<skill id=\"pnp\"/>\n",
            "\t\t</agent>\n",
            "\t\t<agent id=\"a15\">\n",
            "\t\t\t<skill id=\"db_access\"/>\n",
            "\t\t\t<skill id=\"lift\"/>\n",
            "\t\t\t<skill id=\"move\"/>\n",
            "\t\t\t<skill id=\"pnp\"/>\n",
            "\t\t</agent>\n",
            "\t</available-agents>\n"
          ],
          "name": "stdout"
        }
      ]
    }
  ]
}